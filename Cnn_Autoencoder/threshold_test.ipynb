{
 "cells": [
  {
   "cell_type": "code",
   "execution_count": 1,
   "metadata": {},
   "outputs": [
    {
     "name": "stderr",
     "output_type": "stream",
     "text": [
      "Using TensorFlow backend.\n"
     ]
    }
   ],
   "source": [
    "from data_utils import readucr, Data_MinMax_Scaler,is_abnormal\n",
    "from  cnn_AE_1 import Cnn_AE_1\n",
    "from cnn_AE_1pro import Cnn_AE_1pro\n",
    "from GRU import Autoencoder_GRU, output_of_gru\n",
    "import tensorflow as tf\n",
    "from tensorflow.keras.models import Model, load_model\n",
    "import numpy as np\n",
    "from sklearn.model_selection import train_test_split\n",
    "from cnn_AE_2 import Cnn_AE_2"
   ]
  },
  {
   "cell_type": "markdown",
   "metadata": {},
   "source": [
    "# Car数据集异常检测测试结果"
   ]
  },
  {
   "cell_type": "markdown",
   "metadata": {},
   "source": [
    "Car数据集的取值是：-1.7~1.7，取值变化0.1"
   ]
  },
  {
   "cell_type": "code",
   "execution_count": 2,
   "metadata": {},
   "outputs": [
    {
     "name": "stdout",
     "output_type": "stream",
     "text": [
      "data/Car/Car_TRAIN.txt: (60, 568, 1)\n",
      "data/Car/test_data.txt: (60, 568, 1)\n",
      "threshold is: 0.001141040399670601\n",
      "test loss is: 0.011480639688670635\n",
      "——————————————————————————————————————\n",
      "This is an abnormal data\n"
     ]
    }
   ],
   "source": [
    "# 读取数据\n",
    "x_train, y_train = readucr('data/Car/Car_TRAIN.txt')\n",
    "\n",
    "# 将数据归一化\n",
    "x_train = Data_MinMax_Scaler(x_train)\n",
    "y_train = Data_MinMax_Scaler(y_train)\n",
    "\n",
    "# 提取gru的输出\n",
    "GruFilepath = 'result/gru/Car_gru_model.hdf5'\n",
    "gru_train = output_of_gru(x_train, GruFilepath)\n",
    "\n",
    "# 输入测试数据\n",
    "test_data, _ = readucr('data/Car/test_data.txt')\n",
    "test_data = np.array(test_data[:6, :])\n",
    "test_data = Data_MinMax_Scaler(test_data)\n",
    "g_test = output_of_gru(test_data, GruFilepath)\n",
    "\n",
    "# 测试是否异常\n",
    "cnnfilepath = 'result/cnn_AE_1pro/Car_cnn_model.hdf5'\n",
    "is_abnormal(cnnfilepath, g_test, gru_train, gru_train)\n"
   ]
  },
  {
   "cell_type": "markdown",
   "metadata": {},
   "source": [
    "# FordA数据集异常检测测试结果"
   ]
  },
  {
   "cell_type": "markdown",
   "metadata": {},
   "source": [
    "FordA数据的取值从-2~2,取值变化0.2"
   ]
  },
  {
   "cell_type": "code",
   "execution_count": 4,
   "metadata": {},
   "outputs": [
    {
     "name": "stdout",
     "output_type": "stream",
     "text": [
      "data/FordA/FordA_TRAIN.txt: (3601, 496, 1)\n",
      "data/FordA/test_data.txt: (3601, 496, 1)\n",
      "threshold is: 0.0009490702932331866\n",
      "test loss is: 0.0012246923288330436\n",
      "——————————————————————————————————————\n",
      "This is a normal data\n"
     ]
    }
   ],
   "source": [
    "# 读取数据\n",
    "fordA_train, _ = readucr('data/FordA/FordA_TRAIN.txt')\n",
    "\n",
    "# 将数据归一化\n",
    "fordA_train = Data_MinMax_Scaler(fordA_train)\n",
    "\n",
    "# 提取gru的输出\n",
    "GruFilepath = 'result/gru/FordA_gru_model.hdf5'\n",
    "gru_train = output_of_gru(fordA_train, GruFilepath)\n",
    "gru_train = gru_train[:3600,:]\n",
    "\n",
    "# 输入测试数据\n",
    "test_data, _ = readucr('data/FordA/test_data.txt')\n",
    "test_data = np.array(test_data[:6, :])\n",
    "test_data = Data_MinMax_Scaler(test_data)\n",
    "g_test = output_of_gru(test_data, GruFilepath)\n",
    "\n",
    "# 测试是否异常\n",
    "cnnfilepath = 'result/cnn_AE_1pro/FordA_cnn_model.hdf5'\n",
    "is_abnormal(cnnfilepath, g_test, gru_train, gru_train)\n"
   ]
  },
  {
   "cell_type": "code",
   "execution_count": null,
   "metadata": {},
   "outputs": [],
   "source": []
  }
 ],
 "metadata": {
  "kernelspec": {
   "display_name": "Python 3",
   "language": "python",
   "name": "python3"
  },
  "language_info": {
   "codemirror_mode": {
    "name": "ipython",
    "version": 3
   },
   "file_extension": ".py",
   "mimetype": "text/x-python",
   "name": "python",
   "nbconvert_exporter": "python",
   "pygments_lexer": "ipython3",
   "version": "3.7.5"
  }
 },
 "nbformat": 4,
 "nbformat_minor": 2
}
