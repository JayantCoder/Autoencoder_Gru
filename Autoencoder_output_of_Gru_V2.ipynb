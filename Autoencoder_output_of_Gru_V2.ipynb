{
 "cells": [
  {
   "cell_type": "code",
   "execution_count": 1,
   "metadata": {},
   "outputs": [],
   "source": [
    "import numpy as np\n",
    "import pandas as pd\n",
    "import tensorflow as tf\n",
    "import os\n",
    "import time \n",
    "import sklearn\n",
    "from sklearn.preprocessing import MinMaxScaler\n",
    "from sklearn.model_selection import train_test_split"
   ]
  },
  {
   "cell_type": "code",
   "execution_count": 7,
   "metadata": {},
   "outputs": [],
   "source": [
    "def readucr(filename):#读取数据\n",
    "    data = np.loadtxt(filename, dtype=str, delimiter = ',')\n",
    "    x = np.array(data[:, 0:-2], dtype=np.float32)\n",
    "    y = np.array(data[:, 1:-1], dtype=np.float32)\n",
    "    x = x.reshape((x.shape[0],x.shape[1],1))\n",
    "    y = y.reshape((y.shape[0],y.shape[1],1))\n",
    "    print(f'{filename}: {x.shape}, {y.shape}')\n",
    "    return x, y"
   ]
  },
  {
   "cell_type": "code",
   "execution_count": 3,
   "metadata": {},
   "outputs": [],
   "source": [
    "def Data_MinMax_Scaler(x_train):# 归一化\n",
    "    sample_num = x_train.shape[0]\n",
    "    for i in range(0, sample_num): \n",
    "        scaler = MinMaxScaler(feature_range=(-1, 1)) # 归一化到 [-1, 1] 区间内\n",
    "        x_train[i] = scaler.fit_transform(x_train[i]) # fit 获得最大值和最小值，transform 执行归一化\n",
    "    return x_train"
   ]
  },
  {
   "cell_type": "code",
   "execution_count": 4,
   "metadata": {},
   "outputs": [],
   "source": [
    "class Autoencoder_GRU: # GRU神经网络\n",
    "    \"\"\"\n",
    "        model初始化\n",
    "    \"\"\"\n",
    "    def __init__(self, output_directory, input_shape, output_shape, verbose= True): \n",
    "        self.output_directory = output_directory\n",
    "        self.input_shape = input_shape\n",
    "        self.output_shape = output_shape\n",
    "        self.verbose = verbose\n",
    "        \n",
    "        self.model = self.build_model() # 调用 build_model\n",
    "        if(verbose == True):\n",
    "            self.model.summary() # 打印 model 结构\n",
    "        if not os.path.exists(self.output_directory):\n",
    "            os.mkdir(self.output_directory)\n",
    "        init_model_file = os.path.join(self.output_directory, 'model_init.hdf5')\n",
    "        self.model.save_weights(init_model_file) # 保存初始权重\n",
    "\n",
    "    \"\"\"\n",
    "       创建model\n",
    "    \"\"\"         \n",
    "    def build_model(self): \n",
    "        # model 网络结构\n",
    "        input_layer = tf.keras.Input(self.input_shape)\n",
    "        layer_1 = tf.keras.layers.GRU(20, return_sequences=True)(input_layer) \n",
    "        layer_2 = tf.keras.layers.BatchNormalization()(layer_1)\n",
    "        layer_3 = tf.keras.layers.Activation(activation='tanh', name='gru_output')(layer_2)\n",
    "        output_layer = tf.keras.layers.Dense(self.output_shape)(layer_3)\n",
    "\n",
    "        model = tf.keras.Model(inputs=input_layer, outputs=output_layer)\n",
    "        # 编译model\n",
    "        model.compile(loss='mse', optimizer='adam',metrics=['mae']) \n",
    "        \n",
    "        # 设置 callbacks 回调\n",
    "        reduce_lr = tf.keras.callbacks.ReduceLROnPlateau(monitor='loss', # 用于动态调整learning rate\n",
    "                                                         factor=0.5, \n",
    "                                                         patience=50, \n",
    "                                                         min_lr=0.0001)\n",
    "\n",
    "        file_path =  os.path.join(self.output_directory, 'best1_model.hdf5')\n",
    "\n",
    "        model_checkpoint = tf.keras.callbacks.ModelCheckpoint(filepath=file_path, \n",
    "                                                              monitor='loss', \n",
    "                                                              save_best_only=True)\n",
    "\n",
    "        self.callbacks = [reduce_lr, model_checkpoint]\n",
    "\n",
    "        return model \n",
    "\n",
    "    # 训练model\n",
    "    def fit(self, x_train, y_train, x_val, y_val, epochs): \n",
    "        \"\"\"\n",
    "            验证集: (x_val, y_val) 用于监控loss，防止overfitting\n",
    "        \"\"\"  \n",
    "        batch_size = 16\n",
    "        mini_batch_size = int(min(x_train.shape[0]/10, batch_size))\n",
    "\n",
    "        start_time = time.time() \n",
    "\n",
    "        hist = self.model.fit(x_train, y_train, \n",
    "                              validation_data=(x_val, y_val),\n",
    "                              batch_size=mini_batch_size, \n",
    "                              epochs=epochs,\n",
    "                              verbose=self.verbose,  \n",
    "                              callbacks=self.callbacks)\n",
    "        \n",
    "        duration = time.time() - start_time\n",
    "\n",
    "        tf.keras.backend.clear_session() # 清除当前tf计算图\n",
    "        "
   ]
  },
  {
   "cell_type": "code",
   "execution_count": 5,
   "metadata": {},
   "outputs": [],
   "source": [
    "def output_of_gru(train_data, filepath, timewindows=1):#提取Gru的输出\n",
    "    '''\n",
    "    @train_data:模型的输入，例如Car_TRAIN.txt\n",
    "    @filepath:训练好的模型参数\n",
    "    @timewindows:时间窗\n",
    "    '''\n",
    "    initial_model = tf.keras.models.load_model(filepath)\n",
    "    \n",
    "    gru_output_model = tf.keras.Model(\n",
    "    inputs = initial_model.input,\n",
    "    outputs = initial_model.get_layer('gru_output').output)\n",
    "    \n",
    "    output = gru_output_model.predict(train_data)\n",
    "    \n",
    "    return np.array(output[:, ::timewindows])"
   ]
  },
  {
   "cell_type": "markdown",
   "metadata": {},
   "source": [
    "# 测试output_of_gry的功能"
   ]
  },
  {
   "cell_type": "code",
   "execution_count": 8,
   "metadata": {},
   "outputs": [
    {
     "name": "stdout",
     "output_type": "stream",
     "text": [
      "dataset/Car/Car_TRAIN.txt: (60, 575, 1), (60, 575, 1)\n",
      "dataset/Car/Car_TEST.txt: (60, 575, 1), (60, 575, 1)\n"
     ]
    }
   ],
   "source": [
    "X_train,Y_train = readucr('dataset/Car/Car_TRAIN.txt')\n",
    "X_test,Y_test = readucr('dataset/Car/Car_TEST.txt')"
   ]
  },
  {
   "cell_type": "code",
   "execution_count": 9,
   "metadata": {},
   "outputs": [],
   "source": [
    "X_train = Data_MinMax_Scaler(X_train)\n",
    "Y_train = Data_MinMax_Scaler(Y_train)\n",
    "X_test = Data_MinMax_Scaler(X_test)\n",
    "Y_test = Data_MinMax_Scaler(Y_test)"
   ]
  },
  {
   "cell_type": "code",
   "execution_count": null,
   "metadata": {},
   "outputs": [],
   "source": [
    "# 划分 训练集 和 验证集\n",
    "x_train, x_valid, y_train, y_valid = train_test_split(X_train, Y_train, \n",
    "                                                      test_size=0.33, \n",
    "                                                      shuffle=True,\n",
    "                                                      random_state=42)"
   ]
  },
  {
   "cell_type": "code",
   "execution_count": 18,
   "metadata": {},
   "outputs": [],
   "source": [
    "output = output_of_gru(X_train,'configuration/V1/testbest1_model.hdf5',5)"
   ]
  },
  {
   "cell_type": "code",
   "execution_count": 19,
   "metadata": {},
   "outputs": [
    {
     "data": {
      "text/plain": [
       "(60, 115, 20)"
      ]
     },
     "execution_count": 19,
     "metadata": {},
     "output_type": "execute_result"
    }
   ],
   "source": [
    "output.shape"
   ]
  },
  {
   "cell_type": "code",
   "execution_count": null,
   "metadata": {},
   "outputs": [],
   "source": []
  }
 ],
 "metadata": {
  "kernelspec": {
   "display_name": "Python 3",
   "language": "python",
   "name": "python3"
  },
  "language_info": {
   "codemirror_mode": {
    "name": "ipython",
    "version": 3
   },
   "file_extension": ".py",
   "mimetype": "text/x-python",
   "name": "python",
   "nbconvert_exporter": "python",
   "pygments_lexer": "ipython3",
   "version": "3.7.5"
  }
 },
 "nbformat": 4,
 "nbformat_minor": 2
}
